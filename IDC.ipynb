{
 "cells": [
  {
   "cell_type": "markdown",
   "metadata": {},
   "source": [
    "# IMPORT"
   ]
  },
  {
   "cell_type": "code",
   "execution_count": 2,
   "metadata": {},
   "outputs": [],
   "source": [
    "import tensorflow as tf\n",
    "import os\n",
    "import numpy as np\n",
    "import pandas as pd\n",
    "from sklearn.model_selection import train_test_split\n",
    "from tensorflow.keras.preprocessing.image import ImageDataGenerator, img_to_array, load_img\n",
    "from tensorflow.keras.utils import to_categorical\n",
    "from tensorflow.keras.preprocessing import image\n",
    "from sklearn.preprocessing import OneHotEncoder\n",
    "from tensorflow.keras.models import Sequential, load_model\n",
    "from tensorflow.keras.layers import Dense, Dropout, Flatten, Conv2D, MaxPooling2D\n",
    "from tensorflow.keras.optimizers import Adam\n",
    "from tensorflow.keras.applications.mobilenet_v2 import MobileNetV2\n",
    "from tensorflow.keras.callbacks import ModelCheckpoint,EarlyStopping\n",
    "import matplotlib.pyplot as plt\n",
    "\n",
    "os.environ[\"CUDA_VISIBLE_DEVICES\"]=\"1\"\n",
    "\n",
    "tf.debugging.set_log_device_placement(True)\n",
    "config = tf.ConfigProto()\n",
    "config.gpu_options.allow_growth = True"
   ]
  },
  {
   "cell_type": "markdown",
   "metadata": {},
   "source": [
    "# IMAGE READ & PREPROCESS"
   ]
  },
  {
   "cell_type": "code",
   "execution_count": 2,
   "metadata": {
    "scrolled": true
   },
   "outputs": [],
   "source": [
    "folder = './IDC_regular_ps50_idx5/'\n",
    "folders = [folder + x for x in sorted(os.listdir(folder))]\n",
    "folders_0 = list(pd.Series(folders)+'/0/')\n",
    "folders_1 = list(pd.Series(folders)+'/1/')"
   ]
  },
  {
   "cell_type": "code",
   "execution_count": 3,
   "metadata": {},
   "outputs": [],
   "source": [
    "images_path = []\n",
    "images_0=[]\n",
    "images_1=[]"
   ]
  },
  {
   "cell_type": "code",
   "execution_count": 4,
   "metadata": {
    "scrolled": true
   },
   "outputs": [
    {
     "name": "stdout",
     "output_type": "stream",
     "text": [
      "198738\n",
      "78786\n"
     ]
    }
   ],
   "source": [
    "for i in range(0,len(folders_0)):\n",
    "    images_0.extend([folders_0[i] + x for x in sorted(os.listdir(folders_0[i]))])\n",
    "    images_1.extend([folders_1[i] + x for x in sorted(os.listdir(folders_1[i]))])\n",
    "    \n",
    "print(len(images_0))\n",
    "print(len(images_1))"
   ]
  },
  {
   "cell_type": "code",
   "execution_count": 5,
   "metadata": {},
   "outputs": [],
   "source": [
    "images_path = np.hstack([images_1,np.random.choice(images_0, len(images_1))])"
   ]
  },
  {
   "cell_type": "code",
   "execution_count": 6,
   "metadata": {},
   "outputs": [],
   "source": [
    "id_num = []\n",
    "path = []\n",
    "name = []\n",
    "result = []\n",
    "\n",
    "for i in images_path:\n",
    "    split=i.split(\"/\")\n",
    "    id_num.append(split[-3])\n",
    "    path.append(i)\n",
    "    name.append(split[-1])\n",
    "    result.append(split[-2])"
   ]
  },
  {
   "cell_type": "code",
   "execution_count": 7,
   "metadata": {
    "scrolled": false
   },
   "outputs": [],
   "source": [
    "data = pd.DataFrame({\"id_num\":id_num, \"path\":path, \"name\":name, \"result\":result})"
   ]
  },
  {
   "cell_type": "code",
   "execution_count": 8,
   "metadata": {},
   "outputs": [
    {
     "data": {
      "text/plain": [
       "0    78786\n",
       "1    78786\n",
       "Name: result, dtype: int64"
      ]
     },
     "execution_count": 8,
     "metadata": {},
     "output_type": "execute_result"
    }
   ],
   "source": [
    "data[\"result\"].value_counts()"
   ]
  },
  {
   "cell_type": "code",
   "execution_count": 9,
   "metadata": {},
   "outputs": [],
   "source": [
    "X=data.iloc[:, :3]\n",
    "\n",
    "y=data.iloc[:, 3].values"
   ]
  },
  {
   "cell_type": "code",
   "execution_count": 10,
   "metadata": {},
   "outputs": [],
   "source": [
    "X_train, X_test, y_train, y_test = train_test_split(X, y, test_size = 0.1, random_state=5)"
   ]
  },
  {
   "cell_type": "code",
   "execution_count": 11,
   "metadata": {},
   "outputs": [],
   "source": [
    "X_train, X_val, y_train, y_val = train_test_split(X, y, test_size = 0.1, random_state=5)"
   ]
  },
  {
   "cell_type": "code",
   "execution_count": 12,
   "metadata": {},
   "outputs": [
    {
     "name": "stderr",
     "output_type": "stream",
     "text": [
      "C:\\ai\\python\\anaconda3\\lib\\site-packages\\ipykernel_launcher.py:2: SettingWithCopyWarning: \n",
      "A value is trying to be set on a copy of a slice from a DataFrame.\n",
      "Try using .loc[row_indexer,col_indexer] = value instead\n",
      "\n",
      "See the caveats in the documentation: https://pandas.pydata.org/pandas-docs/stable/user_guide/indexing.html#returning-a-view-versus-a-copy\n",
      "  \n",
      "C:\\ai\\python\\anaconda3\\lib\\site-packages\\ipykernel_launcher.py:5: SettingWithCopyWarning: \n",
      "A value is trying to be set on a copy of a slice from a DataFrame.\n",
      "Try using .loc[row_indexer,col_indexer] = value instead\n",
      "\n",
      "See the caveats in the documentation: https://pandas.pydata.org/pandas-docs/stable/user_guide/indexing.html#returning-a-view-versus-a-copy\n",
      "  \"\"\"\n",
      "C:\\ai\\python\\anaconda3\\lib\\site-packages\\ipykernel_launcher.py:8: SettingWithCopyWarning: \n",
      "A value is trying to be set on a copy of a slice from a DataFrame.\n",
      "Try using .loc[row_indexer,col_indexer] = value instead\n",
      "\n",
      "See the caveats in the documentation: https://pandas.pydata.org/pandas-docs/stable/user_guide/indexing.html#returning-a-view-versus-a-copy\n",
      "  \n"
     ]
    }
   ],
   "source": [
    "train_data = X_train\n",
    "train_data['label'] = y_train\n",
    "\n",
    "test_data = X_test\n",
    "test_data['label'] = y_test\n",
    "\n",
    "val_data = X_val\n",
    "val_data['label'] = y_val"
   ]
  },
  {
   "cell_type": "code",
   "execution_count": 4,
   "metadata": {},
   "outputs": [],
   "source": [
    "IM_WIDTH = 50\n",
    "IM_HEIGHT = 50"
   ]
  },
  {
   "cell_type": "code",
   "execution_count": 14,
   "metadata": {},
   "outputs": [
    {
     "name": "stdout",
     "output_type": "stream",
     "text": [
      "Found 141814 validated image filenames belonging to 2 classes.\n"
     ]
    }
   ],
   "source": [
    "train_datagen = ImageDataGenerator(rescale=1./255, rotation_range=180, width_shift_range=0.2,\n",
    "                                   height_shift_range=0.2, horizontal_flip=True, vertical_flip=True)\n",
    "\n",
    "train_generator = train_datagen.flow_from_dataframe(train_data, x_col=\"path\", y_col=\"label\", shuffle=True,\n",
    "                                                  batch_size=50, class_mode=\"binary\", target_size=(IM_WIDTH, IM_HEIGHT))"
   ]
  },
  {
   "cell_type": "code",
   "execution_count": 15,
   "metadata": {
    "scrolled": true
   },
   "outputs": [
    {
     "data": {
      "text/plain": [
       "141814"
      ]
     },
     "execution_count": 15,
     "metadata": {},
     "output_type": "execute_result"
    }
   ],
   "source": [
    "train_generator.n"
   ]
  },
  {
   "cell_type": "code",
   "execution_count": 16,
   "metadata": {},
   "outputs": [
    {
     "name": "stdout",
     "output_type": "stream",
     "text": [
      "Found 15758 validated image filenames belonging to 2 classes.\n"
     ]
    }
   ],
   "source": [
    "test_datagen = ImageDataGenerator(rescale=1./255, rotation_range=180, width_shift_range=0.2,\n",
    "                                height_shift_range=0.2, horizontal_flip=True, vertical_flip=True)\n",
    "\n",
    "test_generator = test_datagen.flow_from_dataframe(test_data, x_col=\"path\", y_col=\"label\", shuffle=True,\n",
    "                                                  batch_size=50, class_mode=\"binary\", target_size=(IM_WIDTH, IM_HEIGHT))"
   ]
  },
  {
   "cell_type": "code",
   "execution_count": 17,
   "metadata": {},
   "outputs": [
    {
     "data": {
      "text/plain": [
       "15758"
      ]
     },
     "execution_count": 17,
     "metadata": {},
     "output_type": "execute_result"
    }
   ],
   "source": [
    "test_generator.n"
   ]
  },
  {
   "cell_type": "code",
   "execution_count": 18,
   "metadata": {},
   "outputs": [
    {
     "name": "stdout",
     "output_type": "stream",
     "text": [
      "Found 15758 validated image filenames belonging to 2 classes.\n"
     ]
    }
   ],
   "source": [
    "val_datagen=ImageDataGenerator(rescale=1./255, rotation_range=180, width_shift_range=0.2,\n",
    "                                height_shift_range=0.2, horizontal_flip=True, vertical_flip=True)\n",
    "\n",
    "val_generator=val_datagen.flow_from_dataframe(val_data, x_col=\"path\", y_col=\"label\", shuffle=True,\n",
    "                                                  batch_size=50, class_mode=\"binary\", target_size=(IM_WIDTH, IM_HEIGHT))"
   ]
  },
  {
   "cell_type": "code",
   "execution_count": 19,
   "metadata": {},
   "outputs": [
    {
     "data": {
      "text/plain": [
       "15758"
      ]
     },
     "execution_count": 19,
     "metadata": {},
     "output_type": "execute_result"
    }
   ],
   "source": [
    "val_generator.n"
   ]
  },
  {
   "cell_type": "code",
   "execution_count": 20,
   "metadata": {},
   "outputs": [
    {
     "data": {
      "text/plain": [
       "(50, 50, 50, 3)"
      ]
     },
     "execution_count": 20,
     "metadata": {},
     "output_type": "execute_result"
    }
   ],
   "source": [
    "img, label = train_generator.next()\n",
    "\n",
    "img.shape"
   ]
  },
  {
   "cell_type": "code",
   "execution_count": 21,
   "metadata": {},
   "outputs": [
    {
     "data": {
      "text/plain": [
       "array([1., 0., 1., 0., 0., 1., 0., 1., 1., 0., 1., 1., 1., 1., 1., 1., 0.,\n",
       "       0., 0., 1., 1., 1., 1., 0., 1., 1., 0., 0., 0., 0., 1., 1., 1., 0.,\n",
       "       0., 1., 1., 1., 0., 0., 0., 1., 0., 1., 1., 1., 0., 1., 1., 1.],\n",
       "      dtype=float32)"
      ]
     },
     "execution_count": 21,
     "metadata": {},
     "output_type": "execute_result"
    }
   ],
   "source": [
    "label"
   ]
  },
  {
   "cell_type": "code",
   "execution_count": 22,
   "metadata": {
    "scrolled": true
   },
   "outputs": [],
   "source": [
    "label = label.reshape(-1,1)"
   ]
  },
  {
   "cell_type": "code",
   "execution_count": 23,
   "metadata": {
    "scrolled": true
   },
   "outputs": [
    {
     "data": {
      "text/plain": [
       "array([[0., 1.],\n",
       "       [1., 0.],\n",
       "       [0., 1.],\n",
       "       [1., 0.],\n",
       "       [1., 0.],\n",
       "       [0., 1.],\n",
       "       [1., 0.],\n",
       "       [0., 1.],\n",
       "       [0., 1.],\n",
       "       [1., 0.],\n",
       "       [0., 1.],\n",
       "       [0., 1.],\n",
       "       [0., 1.],\n",
       "       [0., 1.],\n",
       "       [0., 1.],\n",
       "       [0., 1.],\n",
       "       [1., 0.],\n",
       "       [1., 0.],\n",
       "       [1., 0.],\n",
       "       [0., 1.],\n",
       "       [0., 1.],\n",
       "       [0., 1.],\n",
       "       [0., 1.],\n",
       "       [1., 0.],\n",
       "       [0., 1.],\n",
       "       [0., 1.],\n",
       "       [1., 0.],\n",
       "       [1., 0.],\n",
       "       [1., 0.],\n",
       "       [1., 0.],\n",
       "       [0., 1.],\n",
       "       [0., 1.],\n",
       "       [0., 1.],\n",
       "       [1., 0.],\n",
       "       [1., 0.],\n",
       "       [0., 1.],\n",
       "       [0., 1.],\n",
       "       [0., 1.],\n",
       "       [1., 0.],\n",
       "       [1., 0.],\n",
       "       [1., 0.],\n",
       "       [0., 1.],\n",
       "       [1., 0.],\n",
       "       [0., 1.],\n",
       "       [0., 1.],\n",
       "       [0., 1.],\n",
       "       [1., 0.],\n",
       "       [0., 1.],\n",
       "       [0., 1.],\n",
       "       [0., 1.]], dtype=float32)"
      ]
     },
     "execution_count": 23,
     "metadata": {},
     "output_type": "execute_result"
    }
   ],
   "source": [
    "enc = OneHotEncoder()\n",
    "enc.fit(label)\n",
    "\n",
    "label_onehot = enc.transform(label).toarray()\n",
    "label_onehot = np.array(label_onehot, dtype=\"float32\")\n",
    "label_onehot"
   ]
  },
  {
   "cell_type": "markdown",
   "metadata": {},
   "source": [
    "# MODEL (MobileNetV2)"
   ]
  },
  {
   "cell_type": "code",
   "execution_count": 5,
   "metadata": {
    "scrolled": true
   },
   "outputs": [
    {
     "name": "stdout",
     "output_type": "stream",
     "text": [
      "WARNING:tensorflow:From C:\\ai\\python\\anaconda3\\lib\\site-packages\\tensorflow_core\\python\\ops\\resource_variable_ops.py:1630: calling BaseResourceVariable.__init__ (from tensorflow.python.ops.resource_variable_ops) with constraint is deprecated and will be removed in a future version.\n",
      "Instructions for updating:\n",
      "If using Keras pass *_constraint arguments to layers.\n"
     ]
    },
    {
     "name": "stderr",
     "output_type": "stream",
     "text": [
      "C:\\ai\\python\\anaconda3\\lib\\site-packages\\keras_applications\\mobilenet_v2.py:294: UserWarning: `input_shape` is undefined or non-square, or `rows` is not in [96, 128, 160, 192, 224]. Weights for input shape (224, 224) will be loaded as the default.\n",
      "  warnings.warn('`input_shape` is undefined or non-square, '\n"
     ]
    },
    {
     "name": "stdout",
     "output_type": "stream",
     "text": [
      "Device mapping:\n",
      "/job:localhost/replica:0/task:0/device:GPU:0 -> device: 0, name: GeForce GTX 1080, pci bus id: 0000:0b:00.0, compute capability: 6.1\n",
      "\n"
     ]
    }
   ],
   "source": [
    "mobV2 = MobileNetV2(weights='imagenet', include_top=False, input_shape=(IM_WIDTH, IM_HEIGHT, 3))"
   ]
  },
  {
   "cell_type": "code",
   "execution_count": 7,
   "metadata": {
    "scrolled": false
   },
   "outputs": [
    {
     "name": "stdout",
     "output_type": "stream",
     "text": [
      "Model: \"mobilenetv2_1.00_224\"\n",
      "__________________________________________________________________________________________________\n",
      "Layer (type)                    Output Shape         Param #     Connected to                     \n",
      "==================================================================================================\n",
      "input_1 (InputLayer)            [(None, 50, 50, 3)]  0                                            \n",
      "__________________________________________________________________________________________________\n",
      "Conv1_pad (ZeroPadding2D)       (None, 51, 51, 3)    0           input_1[0][0]                    \n",
      "__________________________________________________________________________________________________\n",
      "Conv1 (Conv2D)                  (None, 25, 25, 32)   864         Conv1_pad[0][0]                  \n",
      "__________________________________________________________________________________________________\n",
      "bn_Conv1 (BatchNormalization)   (None, 25, 25, 32)   128         Conv1[0][0]                      \n",
      "__________________________________________________________________________________________________\n",
      "Conv1_relu (ReLU)               (None, 25, 25, 32)   0           bn_Conv1[0][0]                   \n",
      "__________________________________________________________________________________________________\n",
      "expanded_conv_depthwise (Depthw (None, 25, 25, 32)   288         Conv1_relu[0][0]                 \n",
      "__________________________________________________________________________________________________\n",
      "expanded_conv_depthwise_BN (Bat (None, 25, 25, 32)   128         expanded_conv_depthwise[0][0]    \n",
      "__________________________________________________________________________________________________\n",
      "expanded_conv_depthwise_relu (R (None, 25, 25, 32)   0           expanded_conv_depthwise_BN[0][0] \n",
      "__________________________________________________________________________________________________\n",
      "expanded_conv_project (Conv2D)  (None, 25, 25, 16)   512         expanded_conv_depthwise_relu[0][0\n",
      "__________________________________________________________________________________________________\n",
      "expanded_conv_project_BN (Batch (None, 25, 25, 16)   64          expanded_conv_project[0][0]      \n",
      "__________________________________________________________________________________________________\n",
      "block_1_expand (Conv2D)         (None, 25, 25, 96)   1536        expanded_conv_project_BN[0][0]   \n",
      "__________________________________________________________________________________________________\n",
      "block_1_expand_BN (BatchNormali (None, 25, 25, 96)   384         block_1_expand[0][0]             \n",
      "__________________________________________________________________________________________________\n",
      "block_1_expand_relu (ReLU)      (None, 25, 25, 96)   0           block_1_expand_BN[0][0]          \n",
      "__________________________________________________________________________________________________\n",
      "block_1_pad (ZeroPadding2D)     (None, 27, 27, 96)   0           block_1_expand_relu[0][0]        \n",
      "__________________________________________________________________________________________________\n",
      "block_1_depthwise (DepthwiseCon (None, 13, 13, 96)   864         block_1_pad[0][0]                \n",
      "__________________________________________________________________________________________________\n",
      "block_1_depthwise_BN (BatchNorm (None, 13, 13, 96)   384         block_1_depthwise[0][0]          \n",
      "__________________________________________________________________________________________________\n",
      "block_1_depthwise_relu (ReLU)   (None, 13, 13, 96)   0           block_1_depthwise_BN[0][0]       \n",
      "__________________________________________________________________________________________________\n",
      "block_1_project (Conv2D)        (None, 13, 13, 24)   2304        block_1_depthwise_relu[0][0]     \n",
      "__________________________________________________________________________________________________\n",
      "block_1_project_BN (BatchNormal (None, 13, 13, 24)   96          block_1_project[0][0]            \n",
      "__________________________________________________________________________________________________\n",
      "block_2_expand (Conv2D)         (None, 13, 13, 144)  3456        block_1_project_BN[0][0]         \n",
      "__________________________________________________________________________________________________\n",
      "block_2_expand_BN (BatchNormali (None, 13, 13, 144)  576         block_2_expand[0][0]             \n",
      "__________________________________________________________________________________________________\n",
      "block_2_expand_relu (ReLU)      (None, 13, 13, 144)  0           block_2_expand_BN[0][0]          \n",
      "__________________________________________________________________________________________________\n",
      "block_2_depthwise (DepthwiseCon (None, 13, 13, 144)  1296        block_2_expand_relu[0][0]        \n",
      "__________________________________________________________________________________________________\n",
      "block_2_depthwise_BN (BatchNorm (None, 13, 13, 144)  576         block_2_depthwise[0][0]          \n",
      "__________________________________________________________________________________________________\n",
      "block_2_depthwise_relu (ReLU)   (None, 13, 13, 144)  0           block_2_depthwise_BN[0][0]       \n",
      "__________________________________________________________________________________________________\n",
      "block_2_project (Conv2D)        (None, 13, 13, 24)   3456        block_2_depthwise_relu[0][0]     \n",
      "__________________________________________________________________________________________________\n",
      "block_2_project_BN (BatchNormal (None, 13, 13, 24)   96          block_2_project[0][0]            \n",
      "__________________________________________________________________________________________________\n",
      "block_2_add (Add)               (None, 13, 13, 24)   0           block_1_project_BN[0][0]         \n",
      "                                                                 block_2_project_BN[0][0]         \n",
      "__________________________________________________________________________________________________\n",
      "block_3_expand (Conv2D)         (None, 13, 13, 144)  3456        block_2_add[0][0]                \n",
      "__________________________________________________________________________________________________\n",
      "block_3_expand_BN (BatchNormali (None, 13, 13, 144)  576         block_3_expand[0][0]             \n",
      "__________________________________________________________________________________________________\n",
      "block_3_expand_relu (ReLU)      (None, 13, 13, 144)  0           block_3_expand_BN[0][0]          \n",
      "__________________________________________________________________________________________________\n",
      "block_3_pad (ZeroPadding2D)     (None, 15, 15, 144)  0           block_3_expand_relu[0][0]        \n",
      "__________________________________________________________________________________________________\n",
      "block_3_depthwise (DepthwiseCon (None, 7, 7, 144)    1296        block_3_pad[0][0]                \n",
      "__________________________________________________________________________________________________\n",
      "block_3_depthwise_BN (BatchNorm (None, 7, 7, 144)    576         block_3_depthwise[0][0]          \n",
      "__________________________________________________________________________________________________\n",
      "block_3_depthwise_relu (ReLU)   (None, 7, 7, 144)    0           block_3_depthwise_BN[0][0]       \n",
      "__________________________________________________________________________________________________\n",
      "block_3_project (Conv2D)        (None, 7, 7, 32)     4608        block_3_depthwise_relu[0][0]     \n",
      "__________________________________________________________________________________________________\n",
      "block_3_project_BN (BatchNormal (None, 7, 7, 32)     128         block_3_project[0][0]            \n",
      "__________________________________________________________________________________________________\n",
      "block_4_expand (Conv2D)         (None, 7, 7, 192)    6144        block_3_project_BN[0][0]         \n",
      "__________________________________________________________________________________________________\n",
      "block_4_expand_BN (BatchNormali (None, 7, 7, 192)    768         block_4_expand[0][0]             \n",
      "__________________________________________________________________________________________________\n",
      "block_4_expand_relu (ReLU)      (None, 7, 7, 192)    0           block_4_expand_BN[0][0]          \n",
      "__________________________________________________________________________________________________\n",
      "block_4_depthwise (DepthwiseCon (None, 7, 7, 192)    1728        block_4_expand_relu[0][0]        \n",
      "__________________________________________________________________________________________________\n",
      "block_4_depthwise_BN (BatchNorm (None, 7, 7, 192)    768         block_4_depthwise[0][0]          \n",
      "__________________________________________________________________________________________________\n",
      "block_4_depthwise_relu (ReLU)   (None, 7, 7, 192)    0           block_4_depthwise_BN[0][0]       \n",
      "__________________________________________________________________________________________________\n",
      "block_4_project (Conv2D)        (None, 7, 7, 32)     6144        block_4_depthwise_relu[0][0]     \n",
      "__________________________________________________________________________________________________\n",
      "block_4_project_BN (BatchNormal (None, 7, 7, 32)     128         block_4_project[0][0]            \n",
      "__________________________________________________________________________________________________\n",
      "block_4_add (Add)               (None, 7, 7, 32)     0           block_3_project_BN[0][0]         \n",
      "                                                                 block_4_project_BN[0][0]         \n",
      "__________________________________________________________________________________________________\n",
      "block_5_expand (Conv2D)         (None, 7, 7, 192)    6144        block_4_add[0][0]                \n",
      "__________________________________________________________________________________________________\n",
      "block_5_expand_BN (BatchNormali (None, 7, 7, 192)    768         block_5_expand[0][0]             \n",
      "__________________________________________________________________________________________________\n",
      "block_5_expand_relu (ReLU)      (None, 7, 7, 192)    0           block_5_expand_BN[0][0]          \n",
      "__________________________________________________________________________________________________\n",
      "block_5_depthwise (DepthwiseCon (None, 7, 7, 192)    1728        block_5_expand_relu[0][0]        \n",
      "__________________________________________________________________________________________________\n",
      "block_5_depthwise_BN (BatchNorm (None, 7, 7, 192)    768         block_5_depthwise[0][0]          \n",
      "__________________________________________________________________________________________________\n",
      "block_5_depthwise_relu (ReLU)   (None, 7, 7, 192)    0           block_5_depthwise_BN[0][0]       \n",
      "__________________________________________________________________________________________________\n",
      "block_5_project (Conv2D)        (None, 7, 7, 32)     6144        block_5_depthwise_relu[0][0]     \n",
      "__________________________________________________________________________________________________\n",
      "block_5_project_BN (BatchNormal (None, 7, 7, 32)     128         block_5_project[0][0]            \n",
      "__________________________________________________________________________________________________\n",
      "block_5_add (Add)               (None, 7, 7, 32)     0           block_4_add[0][0]                \n",
      "                                                                 block_5_project_BN[0][0]         \n",
      "__________________________________________________________________________________________________\n",
      "block_6_expand (Conv2D)         (None, 7, 7, 192)    6144        block_5_add[0][0]                \n",
      "__________________________________________________________________________________________________\n",
      "block_6_expand_BN (BatchNormali (None, 7, 7, 192)    768         block_6_expand[0][0]             \n",
      "__________________________________________________________________________________________________\n",
      "block_6_expand_relu (ReLU)      (None, 7, 7, 192)    0           block_6_expand_BN[0][0]          \n",
      "__________________________________________________________________________________________________\n",
      "block_6_pad (ZeroPadding2D)     (None, 9, 9, 192)    0           block_6_expand_relu[0][0]        \n",
      "__________________________________________________________________________________________________\n",
      "block_6_depthwise (DepthwiseCon (None, 4, 4, 192)    1728        block_6_pad[0][0]                \n",
      "__________________________________________________________________________________________________\n",
      "block_6_depthwise_BN (BatchNorm (None, 4, 4, 192)    768         block_6_depthwise[0][0]          \n",
      "__________________________________________________________________________________________________\n",
      "block_6_depthwise_relu (ReLU)   (None, 4, 4, 192)    0           block_6_depthwise_BN[0][0]       \n",
      "__________________________________________________________________________________________________\n",
      "block_6_project (Conv2D)        (None, 4, 4, 64)     12288       block_6_depthwise_relu[0][0]     \n",
      "__________________________________________________________________________________________________\n",
      "block_6_project_BN (BatchNormal (None, 4, 4, 64)     256         block_6_project[0][0]            \n",
      "__________________________________________________________________________________________________\n",
      "block_7_expand (Conv2D)         (None, 4, 4, 384)    24576       block_6_project_BN[0][0]         \n",
      "__________________________________________________________________________________________________\n",
      "block_7_expand_BN (BatchNormali (None, 4, 4, 384)    1536        block_7_expand[0][0]             \n",
      "__________________________________________________________________________________________________\n",
      "block_7_expand_relu (ReLU)      (None, 4, 4, 384)    0           block_7_expand_BN[0][0]          \n",
      "__________________________________________________________________________________________________\n",
      "block_7_depthwise (DepthwiseCon (None, 4, 4, 384)    3456        block_7_expand_relu[0][0]        \n",
      "__________________________________________________________________________________________________\n",
      "block_7_depthwise_BN (BatchNorm (None, 4, 4, 384)    1536        block_7_depthwise[0][0]          \n",
      "__________________________________________________________________________________________________\n",
      "block_7_depthwise_relu (ReLU)   (None, 4, 4, 384)    0           block_7_depthwise_BN[0][0]       \n",
      "__________________________________________________________________________________________________\n",
      "block_7_project (Conv2D)        (None, 4, 4, 64)     24576       block_7_depthwise_relu[0][0]     \n",
      "__________________________________________________________________________________________________\n",
      "block_7_project_BN (BatchNormal (None, 4, 4, 64)     256         block_7_project[0][0]            \n",
      "__________________________________________________________________________________________________\n",
      "block_7_add (Add)               (None, 4, 4, 64)     0           block_6_project_BN[0][0]         \n",
      "                                                                 block_7_project_BN[0][0]         \n",
      "__________________________________________________________________________________________________\n",
      "block_8_expand (Conv2D)         (None, 4, 4, 384)    24576       block_7_add[0][0]                \n",
      "__________________________________________________________________________________________________\n",
      "block_8_expand_BN (BatchNormali (None, 4, 4, 384)    1536        block_8_expand[0][0]             \n",
      "__________________________________________________________________________________________________\n",
      "block_8_expand_relu (ReLU)      (None, 4, 4, 384)    0           block_8_expand_BN[0][0]          \n",
      "__________________________________________________________________________________________________\n",
      "block_8_depthwise (DepthwiseCon (None, 4, 4, 384)    3456        block_8_expand_relu[0][0]        \n",
      "__________________________________________________________________________________________________\n",
      "block_8_depthwise_BN (BatchNorm (None, 4, 4, 384)    1536        block_8_depthwise[0][0]          \n",
      "__________________________________________________________________________________________________\n",
      "block_8_depthwise_relu (ReLU)   (None, 4, 4, 384)    0           block_8_depthwise_BN[0][0]       \n",
      "__________________________________________________________________________________________________\n",
      "block_8_project (Conv2D)        (None, 4, 4, 64)     24576       block_8_depthwise_relu[0][0]     \n",
      "__________________________________________________________________________________________________\n",
      "block_8_project_BN (BatchNormal (None, 4, 4, 64)     256         block_8_project[0][0]            \n",
      "__________________________________________________________________________________________________\n",
      "block_8_add (Add)               (None, 4, 4, 64)     0           block_7_add[0][0]                \n",
      "                                                                 block_8_project_BN[0][0]         \n",
      "__________________________________________________________________________________________________\n",
      "block_9_expand (Conv2D)         (None, 4, 4, 384)    24576       block_8_add[0][0]                \n",
      "__________________________________________________________________________________________________\n",
      "block_9_expand_BN (BatchNormali (None, 4, 4, 384)    1536        block_9_expand[0][0]             \n",
      "__________________________________________________________________________________________________\n",
      "block_9_expand_relu (ReLU)      (None, 4, 4, 384)    0           block_9_expand_BN[0][0]          \n",
      "__________________________________________________________________________________________________\n",
      "block_9_depthwise (DepthwiseCon (None, 4, 4, 384)    3456        block_9_expand_relu[0][0]        \n",
      "__________________________________________________________________________________________________\n",
      "block_9_depthwise_BN (BatchNorm (None, 4, 4, 384)    1536        block_9_depthwise[0][0]          \n",
      "__________________________________________________________________________________________________\n",
      "block_9_depthwise_relu (ReLU)   (None, 4, 4, 384)    0           block_9_depthwise_BN[0][0]       \n",
      "__________________________________________________________________________________________________\n",
      "block_9_project (Conv2D)        (None, 4, 4, 64)     24576       block_9_depthwise_relu[0][0]     \n",
      "__________________________________________________________________________________________________\n",
      "block_9_project_BN (BatchNormal (None, 4, 4, 64)     256         block_9_project[0][0]            \n",
      "__________________________________________________________________________________________________\n",
      "block_9_add (Add)               (None, 4, 4, 64)     0           block_8_add[0][0]                \n",
      "                                                                 block_9_project_BN[0][0]         \n",
      "__________________________________________________________________________________________________\n",
      "block_10_expand (Conv2D)        (None, 4, 4, 384)    24576       block_9_add[0][0]                \n",
      "__________________________________________________________________________________________________\n",
      "block_10_expand_BN (BatchNormal (None, 4, 4, 384)    1536        block_10_expand[0][0]            \n",
      "__________________________________________________________________________________________________\n",
      "block_10_expand_relu (ReLU)     (None, 4, 4, 384)    0           block_10_expand_BN[0][0]         \n",
      "__________________________________________________________________________________________________\n",
      "block_10_depthwise (DepthwiseCo (None, 4, 4, 384)    3456        block_10_expand_relu[0][0]       \n",
      "__________________________________________________________________________________________________\n",
      "block_10_depthwise_BN (BatchNor (None, 4, 4, 384)    1536        block_10_depthwise[0][0]         \n",
      "__________________________________________________________________________________________________\n",
      "block_10_depthwise_relu (ReLU)  (None, 4, 4, 384)    0           block_10_depthwise_BN[0][0]      \n",
      "__________________________________________________________________________________________________\n",
      "block_10_project (Conv2D)       (None, 4, 4, 96)     36864       block_10_depthwise_relu[0][0]    \n",
      "__________________________________________________________________________________________________\n",
      "block_10_project_BN (BatchNorma (None, 4, 4, 96)     384         block_10_project[0][0]           \n",
      "__________________________________________________________________________________________________\n",
      "block_11_expand (Conv2D)        (None, 4, 4, 576)    55296       block_10_project_BN[0][0]        \n",
      "__________________________________________________________________________________________________\n",
      "block_11_expand_BN (BatchNormal (None, 4, 4, 576)    2304        block_11_expand[0][0]            \n",
      "__________________________________________________________________________________________________\n",
      "block_11_expand_relu (ReLU)     (None, 4, 4, 576)    0           block_11_expand_BN[0][0]         \n",
      "__________________________________________________________________________________________________\n",
      "block_11_depthwise (DepthwiseCo (None, 4, 4, 576)    5184        block_11_expand_relu[0][0]       \n",
      "__________________________________________________________________________________________________\n",
      "block_11_depthwise_BN (BatchNor (None, 4, 4, 576)    2304        block_11_depthwise[0][0]         \n",
      "__________________________________________________________________________________________________\n",
      "block_11_depthwise_relu (ReLU)  (None, 4, 4, 576)    0           block_11_depthwise_BN[0][0]      \n",
      "__________________________________________________________________________________________________\n",
      "block_11_project (Conv2D)       (None, 4, 4, 96)     55296       block_11_depthwise_relu[0][0]    \n",
      "__________________________________________________________________________________________________\n",
      "block_11_project_BN (BatchNorma (None, 4, 4, 96)     384         block_11_project[0][0]           \n",
      "__________________________________________________________________________________________________\n",
      "block_11_add (Add)              (None, 4, 4, 96)     0           block_10_project_BN[0][0]        \n",
      "                                                                 block_11_project_BN[0][0]        \n",
      "__________________________________________________________________________________________________\n",
      "block_12_expand (Conv2D)        (None, 4, 4, 576)    55296       block_11_add[0][0]               \n",
      "__________________________________________________________________________________________________\n",
      "block_12_expand_BN (BatchNormal (None, 4, 4, 576)    2304        block_12_expand[0][0]            \n",
      "__________________________________________________________________________________________________\n",
      "block_12_expand_relu (ReLU)     (None, 4, 4, 576)    0           block_12_expand_BN[0][0]         \n",
      "__________________________________________________________________________________________________\n",
      "block_12_depthwise (DepthwiseCo (None, 4, 4, 576)    5184        block_12_expand_relu[0][0]       \n",
      "__________________________________________________________________________________________________\n",
      "block_12_depthwise_BN (BatchNor (None, 4, 4, 576)    2304        block_12_depthwise[0][0]         \n",
      "__________________________________________________________________________________________________\n",
      "block_12_depthwise_relu (ReLU)  (None, 4, 4, 576)    0           block_12_depthwise_BN[0][0]      \n",
      "__________________________________________________________________________________________________\n",
      "block_12_project (Conv2D)       (None, 4, 4, 96)     55296       block_12_depthwise_relu[0][0]    \n",
      "__________________________________________________________________________________________________\n",
      "block_12_project_BN (BatchNorma (None, 4, 4, 96)     384         block_12_project[0][0]           \n",
      "__________________________________________________________________________________________________\n",
      "block_12_add (Add)              (None, 4, 4, 96)     0           block_11_add[0][0]               \n",
      "                                                                 block_12_project_BN[0][0]        \n",
      "__________________________________________________________________________________________________\n",
      "block_13_expand (Conv2D)        (None, 4, 4, 576)    55296       block_12_add[0][0]               \n",
      "__________________________________________________________________________________________________\n",
      "block_13_expand_BN (BatchNormal (None, 4, 4, 576)    2304        block_13_expand[0][0]            \n",
      "__________________________________________________________________________________________________\n",
      "block_13_expand_relu (ReLU)     (None, 4, 4, 576)    0           block_13_expand_BN[0][0]         \n",
      "__________________________________________________________________________________________________\n",
      "block_13_pad (ZeroPadding2D)    (None, 5, 5, 576)    0           block_13_expand_relu[0][0]       \n",
      "__________________________________________________________________________________________________\n",
      "block_13_depthwise (DepthwiseCo (None, 2, 2, 576)    5184        block_13_pad[0][0]               \n",
      "__________________________________________________________________________________________________\n",
      "block_13_depthwise_BN (BatchNor (None, 2, 2, 576)    2304        block_13_depthwise[0][0]         \n",
      "__________________________________________________________________________________________________\n",
      "block_13_depthwise_relu (ReLU)  (None, 2, 2, 576)    0           block_13_depthwise_BN[0][0]      \n",
      "__________________________________________________________________________________________________\n",
      "block_13_project (Conv2D)       (None, 2, 2, 160)    92160       block_13_depthwise_relu[0][0]    \n",
      "__________________________________________________________________________________________________\n",
      "block_13_project_BN (BatchNorma (None, 2, 2, 160)    640         block_13_project[0][0]           \n",
      "__________________________________________________________________________________________________\n",
      "block_14_expand (Conv2D)        (None, 2, 2, 960)    153600      block_13_project_BN[0][0]        \n",
      "__________________________________________________________________________________________________\n",
      "block_14_expand_BN (BatchNormal (None, 2, 2, 960)    3840        block_14_expand[0][0]            \n",
      "__________________________________________________________________________________________________\n",
      "block_14_expand_relu (ReLU)     (None, 2, 2, 960)    0           block_14_expand_BN[0][0]         \n",
      "__________________________________________________________________________________________________\n",
      "block_14_depthwise (DepthwiseCo (None, 2, 2, 960)    8640        block_14_expand_relu[0][0]       \n",
      "__________________________________________________________________________________________________\n",
      "block_14_depthwise_BN (BatchNor (None, 2, 2, 960)    3840        block_14_depthwise[0][0]         \n",
      "__________________________________________________________________________________________________\n",
      "block_14_depthwise_relu (ReLU)  (None, 2, 2, 960)    0           block_14_depthwise_BN[0][0]      \n",
      "__________________________________________________________________________________________________\n",
      "block_14_project (Conv2D)       (None, 2, 2, 160)    153600      block_14_depthwise_relu[0][0]    \n",
      "__________________________________________________________________________________________________\n",
      "block_14_project_BN (BatchNorma (None, 2, 2, 160)    640         block_14_project[0][0]           \n",
      "__________________________________________________________________________________________________\n",
      "block_14_add (Add)              (None, 2, 2, 160)    0           block_13_project_BN[0][0]        \n",
      "                                                                 block_14_project_BN[0][0]        \n",
      "__________________________________________________________________________________________________\n",
      "block_15_expand (Conv2D)        (None, 2, 2, 960)    153600      block_14_add[0][0]               \n",
      "__________________________________________________________________________________________________\n",
      "block_15_expand_BN (BatchNormal (None, 2, 2, 960)    3840        block_15_expand[0][0]            \n",
      "__________________________________________________________________________________________________\n",
      "block_15_expand_relu (ReLU)     (None, 2, 2, 960)    0           block_15_expand_BN[0][0]         \n",
      "__________________________________________________________________________________________________\n",
      "block_15_depthwise (DepthwiseCo (None, 2, 2, 960)    8640        block_15_expand_relu[0][0]       \n",
      "__________________________________________________________________________________________________\n",
      "block_15_depthwise_BN (BatchNor (None, 2, 2, 960)    3840        block_15_depthwise[0][0]         \n",
      "__________________________________________________________________________________________________\n",
      "block_15_depthwise_relu (ReLU)  (None, 2, 2, 960)    0           block_15_depthwise_BN[0][0]      \n",
      "__________________________________________________________________________________________________\n",
      "block_15_project (Conv2D)       (None, 2, 2, 160)    153600      block_15_depthwise_relu[0][0]    \n",
      "__________________________________________________________________________________________________\n",
      "block_15_project_BN (BatchNorma (None, 2, 2, 160)    640         block_15_project[0][0]           \n",
      "__________________________________________________________________________________________________\n",
      "block_15_add (Add)              (None, 2, 2, 160)    0           block_14_add[0][0]               \n",
      "                                                                 block_15_project_BN[0][0]        \n",
      "__________________________________________________________________________________________________\n",
      "block_16_expand (Conv2D)        (None, 2, 2, 960)    153600      block_15_add[0][0]               \n",
      "__________________________________________________________________________________________________\n",
      "block_16_expand_BN (BatchNormal (None, 2, 2, 960)    3840        block_16_expand[0][0]            \n",
      "__________________________________________________________________________________________________\n",
      "block_16_expand_relu (ReLU)     (None, 2, 2, 960)    0           block_16_expand_BN[0][0]         \n",
      "__________________________________________________________________________________________________\n",
      "block_16_depthwise (DepthwiseCo (None, 2, 2, 960)    8640        block_16_expand_relu[0][0]       \n",
      "__________________________________________________________________________________________________\n",
      "block_16_depthwise_BN (BatchNor (None, 2, 2, 960)    3840        block_16_depthwise[0][0]         \n",
      "__________________________________________________________________________________________________\n",
      "block_16_depthwise_relu (ReLU)  (None, 2, 2, 960)    0           block_16_depthwise_BN[0][0]      \n",
      "__________________________________________________________________________________________________\n",
      "block_16_project (Conv2D)       (None, 2, 2, 320)    307200      block_16_depthwise_relu[0][0]    \n",
      "__________________________________________________________________________________________________\n",
      "block_16_project_BN (BatchNorma (None, 2, 2, 320)    1280        block_16_project[0][0]           \n",
      "__________________________________________________________________________________________________\n",
      "Conv_1 (Conv2D)                 (None, 2, 2, 1280)   409600      block_16_project_BN[0][0]        \n",
      "__________________________________________________________________________________________________\n",
      "Conv_1_bn (BatchNormalization)  (None, 2, 2, 1280)   5120        Conv_1[0][0]                     \n",
      "__________________________________________________________________________________________________\n",
      "out_relu (ReLU)                 (None, 2, 2, 1280)   0           Conv_1_bn[0][0]                  \n",
      "==================================================================================================\n",
      "Total params: 2,257,984\n",
      "Trainable params: 2,223,872\n",
      "Non-trainable params: 34,112\n",
      "__________________________________________________________________________________________________\n"
     ]
    }
   ],
   "source": [
    "mobV2.summary()"
   ]
  },
  {
   "cell_type": "code",
   "execution_count": 25,
   "metadata": {},
   "outputs": [
    {
     "name": "stdout",
     "output_type": "stream",
     "text": [
      "Model: \"sequential\"\n",
      "_________________________________________________________________\n",
      "Layer (type)                 Output Shape              Param #   \n",
      "=================================================================\n",
      "mobilenetv2_1.00_224 (Model) (None, 2, 2, 1280)        2257984   \n",
      "_________________________________________________________________\n",
      "flatten (Flatten)            (None, 5120)              0         \n",
      "_________________________________________________________________\n",
      "dense (Dense)                (None, 1)                 5121      \n",
      "=================================================================\n",
      "Total params: 2,263,105\n",
      "Trainable params: 2,228,993\n",
      "Non-trainable params: 34,112\n",
      "_________________________________________________________________\n"
     ]
    }
   ],
   "source": [
    "model = Sequential()\n",
    "model.add(mobV2)\n",
    "model.add(Flatten())\n",
    "model.add(Dense(1, activation='sigmoid'))\n",
    "model.summary()"
   ]
  },
  {
   "cell_type": "code",
   "execution_count": 26,
   "metadata": {},
   "outputs": [
    {
     "name": "stdout",
     "output_type": "stream",
     "text": [
      "WARNING:tensorflow:From C:\\ai\\python\\anaconda3\\lib\\site-packages\\tensorflow_core\\python\\ops\\nn_impl.py:183: where (from tensorflow.python.ops.array_ops) is deprecated and will be removed in a future version.\n",
      "Instructions for updating:\n",
      "Use tf.where in 2.0, which has the same broadcast rule as np.where\n"
     ]
    }
   ],
   "source": [
    "model.compile(loss='binary_crossentropy', optimizer=Adam(lr=0.00001), metrics=['acc'])"
   ]
  },
  {
   "cell_type": "code",
   "execution_count": 27,
   "metadata": {},
   "outputs": [],
   "source": [
    "model_path =\"./model/somacV4-{epoch:02d}.h5\"\n",
    "checkpoint = ModelCheckpoint(filepath=model_path, monitor='val_loss', verbose=1, save_best_only=False)\n",
    "early_stopping = EarlyStopping(monitor='val_loss', patience=7)"
   ]
  },
  {
   "cell_type": "code",
   "execution_count": 28,
   "metadata": {
    "scrolled": true
   },
   "outputs": [
    {
     "name": "stdout",
     "output_type": "stream",
     "text": [
      "Epoch 1/30\n",
      "2836/2837 [============================>.] - ETA: 0s - loss: 0.5513 - acc: 0.7397Epoch 1/30\n",
      " 316/2837 [==>...........................] - ETA: 10:38 - loss: 0.4926 - acc: 0.7883\n",
      "Epoch 00001: saving model to ./model/somacV4-01.h5\n",
      "2837/2837 [==============================] - 485s 171ms/step - loss: 0.5512 - acc: 0.7397 - val_loss: 0.4926 - val_acc: 0.7883\n",
      "Epoch 2/30\n",
      "2836/2837 [============================>.] - ETA: 0s - loss: 0.4617 - acc: 0.7917Epoch 1/30\n",
      " 315/2837 [==>...........................] - ETA: 3:48 - loss: 0.4326 - acc: 0.8135\n",
      "Epoch 00002: saving model to ./model/somacV4-02.h5\n",
      "2837/2837 [==============================] - 309s 109ms/step - loss: 0.4617 - acc: 0.7917 - val_loss: 0.4323 - val_acc: 0.8134\n",
      "Epoch 3/30\n",
      "2836/2837 [============================>.] - ETA: 0s - loss: 0.4298 - acc: 0.8081Epoch 1/30\n",
      " 315/2837 [==>...........................] - ETA: 3:54 - loss: 0.4107 - acc: 0.8197\n",
      "Epoch 00003: saving model to ./model/somacV4-03.h5\n",
      "2837/2837 [==============================] - 293s 103ms/step - loss: 0.4298 - acc: 0.8080 - val_loss: 0.4111 - val_acc: 0.8196\n",
      "Epoch 4/30\n",
      "2836/2837 [============================>.] - ETA: 0s - loss: 0.4122 - acc: 0.8184Epoch 1/30\n",
      " 315/2837 [==>...........................] - ETA: 3:54 - loss: 0.3986 - acc: 0.8265- ETA: 3:56 - loss: 0.\n",
      "Epoch 00004: saving model to ./model/somacV4-04.h5\n",
      "2837/2837 [==============================] - 293s 103ms/step - loss: 0.4122 - acc: 0.8184 - val_loss: 0.3982 - val_acc: 0.8265\n",
      "Epoch 5/30\n",
      "2836/2837 [============================>.] - ETA: 0s - loss: 0.3997 - acc: 0.8255Epoch 1/30\n",
      " 315/2837 [==>...........................] - ETA: 3:56 - loss: 0.3822 - acc: 0.8338\n",
      "Epoch 00005: saving model to ./model/somacV4-05.h5\n",
      "2837/2837 [==============================] - 297s 105ms/step - loss: 0.3997 - acc: 0.8255 - val_loss: 0.3820 - val_acc: 0.8339\n",
      "Epoch 6/30\n",
      "2836/2837 [============================>.] - ETA: 0s - loss: 0.3906 - acc: 0.8303Epoch 1/30\n",
      " 315/2837 [==>...........................] - ETA: 4:07 - loss: 0.3720 - acc: 0.8413\n",
      "Epoch 00006: saving model to ./model/somacV4-06.h5\n",
      "2837/2837 [==============================] - 300s 106ms/step - loss: 0.3905 - acc: 0.8303 - val_loss: 0.3717 - val_acc: 0.8413\n",
      "Epoch 7/30\n",
      "2836/2837 [============================>.] - ETA: 0s - loss: 0.3825 - acc: 0.8334Epoch 1/30\n",
      " 315/2837 [==>...........................] - ETA: 4:03 - loss: 0.3638 - acc: 0.8413\n",
      "Epoch 00007: saving model to ./model/somacV4-07.h5\n",
      "2837/2837 [==============================] - 313s 110ms/step - loss: 0.3824 - acc: 0.8334 - val_loss: 0.3635 - val_acc: 0.8413\n",
      "Epoch 8/30\n",
      "2836/2837 [============================>.] - ETA: 0s - loss: 0.3744 - acc: 0.8378Epoch 1/30\n",
      " 315/2837 [==>...........................] - ETA: 3:57 - loss: 0.3584 - acc: 0.8462\n",
      "Epoch 00008: saving model to ./model/somacV4-08.h5\n",
      "2837/2837 [==============================] - 301s 106ms/step - loss: 0.3745 - acc: 0.8378 - val_loss: 0.3581 - val_acc: 0.8463\n",
      "Epoch 9/30\n",
      "2836/2837 [============================>.] - ETA: 0s - loss: 0.3684 - acc: 0.8408Epoch 1/30\n",
      " 315/2837 [==>...........................] - ETA: 4:00 - loss: 0.3558 - acc: 0.8462\n",
      "Epoch 00009: saving model to ./model/somacV4-09.h5\n",
      "2837/2837 [==============================] - 308s 109ms/step - loss: 0.3684 - acc: 0.8408 - val_loss: 0.3554 - val_acc: 0.8462\n",
      "Epoch 10/30\n",
      "2836/2837 [============================>.] - ETA: 0s - loss: 0.3650 - acc: 0.8431Epoch 1/30\n",
      " 315/2837 [==>...........................] - ETA: 3:59 - loss: 0.3506 - acc: 0.8493\n",
      "Epoch 00010: saving model to ./model/somacV4-10.h5\n",
      "2837/2837 [==============================] - 301s 106ms/step - loss: 0.3650 - acc: 0.8431 - val_loss: 0.3500 - val_acc: 0.8494\n",
      "Epoch 11/30\n",
      "2836/2837 [============================>.] - ETA: 0s - loss: 0.3583 - acc: 0.8460Epoch 1/30\n",
      " 315/2837 [==>...........................] - ETA: 4:02 - loss: 0.3435 - acc: 0.8510\n",
      "Epoch 00011: saving model to ./model/somacV4-11.h5\n",
      "2837/2837 [==============================] - 300s 106ms/step - loss: 0.3583 - acc: 0.8460 - val_loss: 0.3430 - val_acc: 0.8511\n",
      "Epoch 12/30\n",
      "2836/2837 [============================>.] - ETA: 0s - loss: 0.3526 - acc: 0.8495Epoch 1/30\n",
      " 315/2837 [==>...........................] - ETA: 4:01 - loss: 0.3438 - acc: 0.8534\n",
      "Epoch 00012: saving model to ./model/somacV4-12.h5\n",
      "2837/2837 [==============================] - 303s 107ms/step - loss: 0.3526 - acc: 0.8495 - val_loss: 0.3432 - val_acc: 0.8535\n",
      "Epoch 13/30\n",
      "2836/2837 [============================>.] - ETA: 0s - loss: 0.3484 - acc: 0.8506Epoch 1/30\n",
      " 315/2837 [==>...........................] - ETA: 3:59 - loss: 0.3387 - acc: 0.8580\n",
      "Epoch 00013: saving model to ./model/somacV4-13.h5\n",
      "2837/2837 [==============================] - 301s 106ms/step - loss: 0.3485 - acc: 0.8506 - val_loss: 0.3382 - val_acc: 0.8581\n",
      "Epoch 14/30\n",
      "2836/2837 [============================>.] - ETA: 0s - loss: 0.3455 - acc: 0.8533Epoch 1/30\n",
      " 315/2837 [==>...........................] - ETA: 4:00 - loss: 0.3364 - acc: 0.8568\n",
      "Epoch 00014: saving model to ./model/somacV4-14.h5\n",
      "2837/2837 [==============================] - 300s 106ms/step - loss: 0.3455 - acc: 0.8533 - val_loss: 0.3360 - val_acc: 0.8568\n",
      "Epoch 15/30\n",
      "2836/2837 [============================>.] - ETA: 0s - loss: 0.3421 - acc: 0.8538Epoch 1/30\n",
      " 315/2837 [==>...........................] - ETA: 4:06 - loss: 0.3333 - acc: 0.8588\n",
      "Epoch 00015: saving model to ./model/somacV4-15.h5\n",
      "2837/2837 [==============================] - 304s 107ms/step - loss: 0.3421 - acc: 0.8538 - val_loss: 0.3326 - val_acc: 0.8589\n",
      "Epoch 16/30\n",
      "2836/2837 [============================>.] - ETA: 0s - loss: 0.3396 - acc: 0.8552Epoch 1/30\n",
      " 315/2837 [==>...........................] - ETA: 4:02 - loss: 0.3269 - acc: 0.8594\n",
      "Epoch 00016: saving model to ./model/somacV4-16.h5\n",
      "2837/2837 [==============================] - 313s 110ms/step - loss: 0.3396 - acc: 0.8552 - val_loss: 0.3265 - val_acc: 0.8594\n",
      "Epoch 17/30\n",
      "2836/2837 [============================>.] - ETA: 0s - loss: 0.3357 - acc: 0.8574Epoch 1/30\n",
      " 315/2837 [==>...........................] - ETA: 4:04 - loss: 0.3280 - acc: 0.8629\n",
      "Epoch 00017: saving model to ./model/somacV4-17.h5\n",
      "2837/2837 [==============================] - 303s 107ms/step - loss: 0.3357 - acc: 0.8574 - val_loss: 0.3276 - val_acc: 0.8630\n",
      "Epoch 18/30\n",
      "2836/2837 [============================>.] - ETA: 0s - loss: 0.3342 - acc: 0.8580Epoch 1/30\n",
      " 315/2837 [==>...........................] - ETA: 3:59 - loss: 0.3247 - acc: 0.8617\n",
      "Epoch 00018: saving model to ./model/somacV4-18.h5\n",
      "2837/2837 [==============================] - 302s 107ms/step - loss: 0.3342 - acc: 0.8580 - val_loss: 0.3242 - val_acc: 0.8618\n",
      "Epoch 19/30\n",
      "2836/2837 [============================>.] - ETA: 0s - loss: 0.3307 - acc: 0.8590Epoch 1/30\n",
      " 315/2837 [==>...........................] - ETA: 3:58 - loss: 0.3247 - acc: 0.8625\n",
      "Epoch 00019: saving model to ./model/somacV4-19.h5\n",
      "2837/2837 [==============================] - 300s 106ms/step - loss: 0.3307 - acc: 0.8590 - val_loss: 0.3244 - val_acc: 0.8625\n",
      "Epoch 20/30\n",
      "2836/2837 [============================>.] - ETA: 0s - loss: 0.3281 - acc: 0.8605Epoch 1/30\n",
      " 315/2837 [==>...........................] - ETA: 4:10 - loss: 0.3233 - acc: 0.8625\n",
      "Epoch 00020: saving model to ./model/somacV4-20.h5\n",
      "2837/2837 [==============================] - 302s 107ms/step - loss: 0.3281 - acc: 0.8605 - val_loss: 0.3228 - val_acc: 0.8626\n",
      "Epoch 21/30\n",
      "2836/2837 [============================>.] - ETA: 0s - loss: 0.3262 - acc: 0.8622Epoch 1/30\n",
      " 315/2837 [==>...........................] - ETA: 4:18 - loss: 0.3203 - acc: 0.8626\n",
      "Epoch 00021: saving model to ./model/somacV4-21.h5\n",
      "2837/2837 [==============================] - 343s 121ms/step - loss: 0.3262 - acc: 0.8622 - val_loss: 0.3200 - val_acc: 0.8626\n",
      "Epoch 22/30\n",
      "2836/2837 [============================>.] - ETA: 0s - loss: 0.3241 - acc: 0.8639Epoch 1/30\n",
      " 315/2837 [==>...........................] - ETA: 3:59 - loss: 0.3182 - acc: 0.8666\n",
      "Epoch 00022: saving model to ./model/somacV4-22.h5\n",
      "2837/2837 [==============================] - 305s 108ms/step - loss: 0.3240 - acc: 0.8639 - val_loss: 0.3177 - val_acc: 0.8667\n",
      "Epoch 23/30\n",
      "2836/2837 [============================>.] - ETA: 0s - loss: 0.3232 - acc: 0.8630Epoch 1/30\n",
      " 315/2837 [==>...........................] - ETA: 3:56 - loss: 0.3148 - acc: 0.8684- ETA: 3:57 - loss: 0.3157 \n",
      "Epoch 00023: saving model to ./model/somacV4-23.h5\n",
      "2837/2837 [==============================] - 298s 105ms/step - loss: 0.3232 - acc: 0.8630 - val_loss: 0.3142 - val_acc: 0.8684\n",
      "Epoch 24/30\n",
      "2836/2837 [============================>.] - ETA: 0s - loss: 0.3182 - acc: 0.8651Epoch 1/30\n",
      " 315/2837 [==>...........................] - ETA: 3:57 - loss: 0.3099 - acc: 0.8708\n",
      "Epoch 00024: saving model to ./model/somacV4-24.h5\n",
      "2837/2837 [==============================] - 308s 109ms/step - loss: 0.3181 - acc: 0.8651 - val_loss: 0.3092 - val_acc: 0.8709\n",
      "Epoch 25/30\n",
      "2836/2837 [============================>.] - ETA: 0s - loss: 0.3152 - acc: 0.8676Epoch 1/30\n",
      " 315/2837 [==>...........................] - ETA: 3:54 - loss: 0.3139 - acc: 0.8693\n",
      "Epoch 00025: saving model to ./model/somacV4-25.h5\n",
      "2837/2837 [==============================] - 299s 105ms/step - loss: 0.3152 - acc: 0.8676 - val_loss: 0.3134 - val_acc: 0.8693\n",
      "Epoch 26/30\n",
      "2836/2837 [============================>.] - ETA: 0s - loss: 0.3135 - acc: 0.8678Epoch 1/30\n",
      " 315/2837 [==>...........................] - ETA: 4:01 - loss: 0.3138 - acc: 0.8672\n",
      "Epoch 00026: saving model to ./model/somacV4-26.h5\n",
      "2837/2837 [==============================] - 308s 109ms/step - loss: 0.3135 - acc: 0.8678 - val_loss: 0.3134 - val_acc: 0.8672\n",
      "Epoch 27/30\n",
      "2836/2837 [============================>.] - ETA: 0s - loss: 0.3114 - acc: 0.8692Epoch 1/30\n",
      " 315/2837 [==>...........................] - ETA: 3:59 - loss: 0.3068 - acc: 0.8724\n",
      "Epoch 00027: saving model to ./model/somacV4-27.h5\n",
      "2837/2837 [==============================] - 299s 105ms/step - loss: 0.3114 - acc: 0.8692 - val_loss: 0.3065 - val_acc: 0.8724\n",
      "Epoch 28/30\n",
      "2836/2837 [============================>.] - ETA: 0s - loss: 0.3109 - acc: 0.8692Epoch 1/30\n",
      " 315/2837 [==>...........................] - ETA: 4:01 - loss: 0.3097 - acc: 0.8677\n",
      "Epoch 00028: saving model to ./model/somacV4-28.h5\n",
      "2837/2837 [==============================] - 301s 106ms/step - loss: 0.3109 - acc: 0.8692 - val_loss: 0.3092 - val_acc: 0.8678\n",
      "Epoch 29/30\n",
      "2836/2837 [============================>.] - ETA: 0s - loss: 0.3079 - acc: 0.8702- ETA: 0s - loss: 0.3079 - acc: Epoch 1/30\n",
      " 315/2837 [==>...........................] - ETA: 3:53 - loss: 0.3085 - acc: 0.8704\n",
      "Epoch 00029: saving model to ./model/somacV4-29.h5\n",
      "2837/2837 [==============================] - 297s 105ms/step - loss: 0.3079 - acc: 0.8702 - val_loss: 0.3084 - val_acc: 0.8704\n",
      "Epoch 30/30\n",
      "2836/2837 [============================>.] - ETA: 0s - loss: 0.3061 - acc: 0.8720Epoch 1/30\n",
      " 315/2837 [==>...........................] - ETA: 3:59 - loss: 0.3034 - acc: 0.8710\n",
      "Epoch 00030: saving model to ./model/somacV4-30.h5\n",
      "2837/2837 [==============================] - 299s 105ms/step - loss: 0.3062 - acc: 0.8720 - val_loss: 0.3036 - val_acc: 0.8710\n"
     ]
    }
   ],
   "source": [
    "history = model.fit_generator(train_generator, epochs=30, validation_data = val_generator, callbacks=[checkpoint, early_stopping])"
   ]
  },
  {
   "cell_type": "code",
   "execution_count": 31,
   "metadata": {},
   "outputs": [],
   "source": [
    "model.compile(loss='binary_crossentropy', optimizer=Adam(lr=0.001), metrics=['acc'])\n",
    "model_path =\"./model/somacV5-{epoch:02d}.h5\"\n",
    "checkpoint = ModelCheckpoint(filepath=model_path, monitor='val_loss', verbose=1, save_best_only=False)\n",
    "early_stopping = EarlyStopping(monitor='val_loss', patience=7)"
   ]
  },
  {
   "cell_type": "markdown",
   "metadata": {},
   "source": [
    "# MODEL HISTORY (ACC, LOSS, VAL_ACC, VAL_LOSS)"
   ]
  },
  {
   "cell_type": "code",
   "execution_count": 29,
   "metadata": {},
   "outputs": [
    {
     "data": {
      "image/png": "[encoded data removed]",
      "text/plain": [
       "<Figure size 432x288 with 1 Axes>"
      ]
     },
     "metadata": {
      "needs_background": "light"
     },
     "output_type": "display_data"
    }
   ],
   "source": [
    "plt.plot(history.history['loss'])\n",
    "plt.plot(history.history['val_loss'])\n",
    "plt.plot(history.history['acc'])\n",
    "plt.plot(history.history['val_acc'])\n",
    "plt.title('model loss')\n",
    "plt.ylabel('loss')\n",
    "plt.xlabel('epoch')\n",
    "plt.legend(['loss', 'val_loss', 'acc', 'val_acc'], loc='upper left')\n",
    "plt.show()"
   ]
  },
  {
   "cell_type": "markdown",
   "metadata": {},
   "source": [
    "# PREDICT TEST DATA"
   ]
  },
  {
   "cell_type": "code",
   "execution_count": 30,
   "metadata": {
    "scrolled": false
   },
   "outputs": [
    {
     "name": "stdout",
     "output_type": "stream",
     "text": [
      "316/316 [==============================] - 21s 67ms/step - loss: 0.3028 - acc: 0.8717\n"
     ]
    },
    {
     "data": {
      "text/plain": [
       "[0.3028330216773703, 0.87168425]"
      ]
     },
     "execution_count": 30,
     "metadata": {},
     "output_type": "execute_result"
    }
   ],
   "source": [
    "model.evaluate(test_generator)"
   ]
  },
  {
   "cell_type": "code",
   "execution_count": null,
   "metadata": {},
   "outputs": [],
   "source": []
  }
 ],
 "metadata": {
  "kernelspec": {
   "display_name": "Python 3",
   "language": "python",
   "name": "python3"
  },
  "language_info": {
   "codemirror_mode": {
    "name": "ipython",
    "version": 3
   },
   "file_extension": ".py",
   "mimetype": "text/x-python",
   "name": "python",
   "nbconvert_exporter": "python",
   "pygments_lexer": "ipython3",
   "version": "3.7.3"
  }
 },
 "nbformat": 4,
 "nbformat_minor": 4
}
